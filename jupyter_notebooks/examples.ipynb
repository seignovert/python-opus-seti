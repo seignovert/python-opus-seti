{
 "cells": [
  {
   "cell_type": "markdown",
   "metadata": {},
   "source": [
    "# Python package for OPUS-Seti API (NASA-PDS Rings Node)\n",
    "\n",
    "This guide describes the `opus-seti` python package to use the API that drives [OPUS, an outer planets data search tool](http://pds-rings-tools.seti.org/opus) produced by the [NASA PDS Rings Node](http://pds-rings.seti.org/). Any search that can be performed in OPUS can also be requested as an API call. Below are several examples.\n",
    "\n",
    "A `command line intergration` (CLI) is also available, and examples can be found [here](https://nbviewer.jupyter.org/github/seignovert/python-opus-seti/blob/master/jupyter_notbooks/cli.ipynb).\n",
    "\n",
    "_(The source code of this python package can be found on [github](https://github.com/seignovert/python-opus-seti). Contributions and feedbacks are welcome.)_\n",
    "\n",
    "__IMPORTANT:__ I have no current affiliation with NASA or SETI. This package is provided _as is_, use at your own risk."
   ]
  },
  {
   "cell_type": "markdown",
   "metadata": {},
   "source": [
    "## Getting data"
   ]
  },
  {
   "cell_type": "code",
   "execution_count": 1,
   "metadata": {
    "scrolled": false
   },
   "outputs": [
    {
     "name": "stdout",
     "output_type": "stream",
     "text": [
      "Number of Image/Cube found: 75880\n"
     ]
    }
   ],
   "source": [
    "from opus import api\n",
    "\n",
    "## Get result count for the number of `Images` and `Cubes` taken by the `CASSINI-VIMS` instrument targeting `TITAN`.\n",
    "count = api.count(\n",
    "    instrumentid = 'Cassini+VIMS',\n",
    "    surfacegeometrytargetname = 'TITAN',\n",
    "    typeid = 'Image,Cube',\n",
    ")\n",
    "print('Number of Image/Cube found:', count)"
   ]
  },
  {
   "cell_type": "code",
   "execution_count": 2,
   "metadata": {
    "scrolled": false
   },
   "outputs": [
    {
     "name": "stdout",
     "output_type": "stream",
     "text": [
      "OPUS API Data objects (with 10 elements):\n",
      " - S_CUBE_CO_VIMS_1463887830_IR\n",
      " - S_CUBE_CO_VIMS_1463887846_IR\n",
      " - S_CUBE_CO_VIMS_1463887879_IR\n",
      " - S_CUBE_CO_VIMS_1463887895_IR\n",
      " - S_CUBE_CO_VIMS_1463887928_IR\n",
      " - S_CUBE_CO_VIMS_1463887944_IR\n",
      " - S_CUBE_CO_VIMS_1463887977_IR\n",
      " - S_CUBE_CO_VIMS_1463887993_IR\n",
      " - S_CUBE_CO_VIMS_1463888026_IR\n",
      " - S_CUBE_CO_VIMS_1463888042_IR\n"
     ]
    }
   ],
   "source": [
    "## Get the first 10 cubes (sorted by time) and retreiving: \n",
    "# - the intended target name\n",
    "# - Saturn orbit number\n",
    "# - the observation start time (int UTC)\n",
    "# - the primary file specification\n",
    "# - the channel (VIS/IR)\n",
    "    \n",
    "cubes = api.data(\n",
    "    instrumentid = 'Cassini+VIMS',\n",
    "    surfacegeometrytargetname = 'TITAN',\n",
    "    typeid = 'Image,Cube',\n",
    "    order = 'time1',\n",
    "    cols = 'ringobsid,target,revno,time1,primaryfilespec,channel',\n",
    "    limit = 10,\n",
    "    page = 1\n",
    ")\n",
    "print(cubes)"
   ]
  },
  {
   "cell_type": "markdown",
   "metadata": {},
   "source": [
    "__Note:__ If `limit` parameter is set to `None` the query will retreive all the cubes found."
   ]
  },
  {
   "cell_type": "code",
   "execution_count": 3,
   "metadata": {
    "scrolled": false
   },
   "outputs": [
    {
     "data": {
      "text/plain": [
       "Ring Observation ID: S_CUBE_CO_VIMS_1463887830_IR\n",
       " - Intended Target Name: TITAN\n",
       " - Saturn Orbit Number: 000\n",
       " - Observation Start Time (UTC): 2004-05-22T03:06:38.211\n",
       " - Primary File Spec: COVIMS_0004/data/2004136T030633_2004143T032556/v1463887830_1.QUB\n",
       " - Channel: IR"
      ]
     },
     "execution_count": 3,
     "metadata": {},
     "output_type": "execute_result"
    }
   ],
   "source": [
    "## Show a single cube from the previous query:\n",
    "cubes['S_CUBE_CO_VIMS_1463887830_IR']"
   ]
  },
  {
   "cell_type": "markdown",
   "metadata": {},
   "source": [
    "## Metadata"
   ]
  },
  {
   "cell_type": "code",
   "execution_count": 4,
   "metadata": {
    "scrolled": true
   },
   "outputs": [
    {
     "name": "stdout",
     "output_type": "stream",
     "text": [
      "OPUS API Metadata Ring observation: S_CUBE_CO_VIMS_1463887830_IR\n",
      "\n",
      "=> GENERAL constraints\n",
      " - is_image: False\n",
      " - planet_id: SAT\n",
      " - target_name: TITAN\n",
      " - mission_id: CO\n",
      " - inst_host_id: CO\n",
      " - instrument_id: COVIMS\n",
      " - time_sec1: 138510430.211\n",
      " - time_sec2: 138510433.934\n",
      " - time1: 2004-05-22 03:06:38.211000\n",
      " - time2: 2004-05-22 03:06:41.934000\n",
      " - target_class: MOON\n",
      " - quantity: REFLECT\n",
      " - type_id: CUBE\n",
      " - ring_obs_id: S_CUBE_CO_VIMS_1463887830_IR\n",
      " - right_asc1: 33.597013\n",
      " - right_asc2: 33.781802\n",
      " - declination1: 9.564464\n",
      " - declination2: 9.746636\n",
      " - observation_duration: 3.7229999899864197\n",
      " - volume_id_list: COVIMS_0004\n",
      " - primary_file_spec: COVIMS_0004/data/2004136T030633_2004143T032556/v1463887830_1.QUB\n",
      "\n",
      "=> SATURN_SURFACE_GEOMETRY constraints\n",
      " - sub_solar_planetocentric_latitude: -24.757\n",
      " - sub_observer_planetocentric_latitude: -16.348\n",
      " - sub_solar_planetographic_latitude: -29.543\n",
      " - sub_observer_planetographic_latitude: -19.825\n",
      " - sub_solar_IAU_longitude: 42.915\n",
      " - sub_observer_IAU_longitude: 115.068\n",
      " - center_resolution: 10610.0\n",
      " - center_phase_angle: 67.361\n",
      " - center_distance: 21435312.517\n",
      "\n",
      "=> TITAN_SURFACE_GEOMETRY constraints\n",
      " - sub_solar_planetocentric_latitude: -24.699\n",
      " - sub_observer_planetocentric_latitude: -16.231\n",
      " - sub_solar_planetographic_latitude: -24.699\n",
      " - sub_observer_planetographic_latitude: -16.231\n",
      " - sub_solar_IAU_longitude: 209.735\n",
      " - sub_observer_IAU_longitude: 285.075\n",
      " - center_resolution: 10753.0\n",
      " - center_phase_angle: 70.272\n",
      " - center_distance: 21722296.753\n",
      "\n",
      "=> RING_GEOMETRY constraints\n",
      " - ring_radius1: 1155776.141\n",
      " - ring_radius2: 1269499.724\n",
      " - resolution1: 10730.0\n",
      " - resolution2: 10849.0\n",
      " - projected_radial_resolution1: 14007.0\n",
      " - projected_radial_resolution2: 19298.0\n",
      " - range_to_ring_intercept1: 21675806.237\n",
      " - range_to_ring_intercept2: 21917939.068\n",
      " - ring_center_distance: 21435312.517\n",
      " - J2000_longitude1: 317.627\n",
      " - J2000_longitude2: 328.377\n",
      " - solar_hour_angle1: 208.797\n",
      " - solar_hour_angle2: 219.547\n",
      " - longitude_WRT_observer1: 100.95\n",
      " - longitude_WRT_observer2: 111.7\n",
      " - ring_azimuth_WRT_observer1: 104.075\n",
      " - ring_azimuth_WRT_observer2: 114.909\n",
      " - sub_solar_ring_long: 288.83\n",
      " - sub_observer_ring_long: 216.677\n",
      " - solar_ring_elev1: -24.776\n",
      " - solar_ring_elev2: -24.774\n",
      " - observer_ring_elevation1: -16.162\n",
      " - observer_ring_elevation2: -15.978\n",
      " - phase1: 70.199\n",
      " - phase2: 70.344\n",
      " - incidence1: 65.224\n",
      " - incidence2: 65.226\n",
      " - emission1: 73.838\n",
      " - emission2: 74.022\n",
      " - north_based_incidence1: 114.774\n",
      " - north_based_incidence2: 114.776\n",
      " - north_based_emission1: 105.978\n",
      " - north_based_emission2: 106.162\n",
      " - ring_center_phase: 67.361\n",
      " - ring_center_incidence: 65.243\n",
      " - ring_center_emission: 73.652\n",
      " - ring_center_north_based_incidence: 114.757\n",
      " - ring_center_north_based_emission: 106.348\n",
      " - solar_ring_opening_angle: -24.757\n",
      " - observer_ring_opening_angle: -16.348\n",
      " - edge_on_radius1: 1102060.665\n",
      " - edge_on_radius2: 1170445.679\n",
      " - edge_on_altitude1: -153111.275\n",
      " - edge_on_altitude2: -81461.096\n",
      " - edge_on_radial_resolution1: 10574.0\n",
      " - edge_on_radial_resolution2: 10585.0\n",
      " - range_to_edge_on_point1: 21361720.688\n",
      " - range_to_edge_on_point2: 21383145.545\n",
      " - edge_on_J2000_longitude1: 303.414\n",
      " - edge_on_J2000_longitude2: 303.605\n",
      " - edge_on_solar_hour_angle1: 194.584\n",
      " - edge_on_solar_hour_angle2: 194.774\n",
      "\n",
      "=> WAVELENGTH constraints\n",
      " - wavelength1: 0.8842\n",
      " - wavelength2: 5.1225\n",
      " - spec_flag: Y\n",
      " - wave_res1: 0.01662\n",
      " - wave_res2: 0.01662\n",
      " - wave_no1: 19.521717911176\n",
      " - wave_no2: 113.09658448315\n",
      " - wave_no_res1: 0.063338399547828\n",
      " - wave_no_res2: 2.1258371794955\n",
      " - spec_size: 96\n",
      " - polarization_type: NONE\n",
      "\n",
      "=> IMAGE constraints\n",
      " - duration: 0.08\n",
      " - image_type_id: RAST\n",
      " - greater_pixel_size: 6.0\n",
      " - lesser_pixel_size: 6.0\n",
      " - levels: 4096\n",
      "\n",
      "=> CASSINI_MISSION constraints\n",
      " - cassini_target_name: Titan\n",
      " - rev_no: 000\n",
      " - obs_name: VIMS_000TI_LIGHTC065\n",
      " - activity_name: LIGHTC\n",
      " - spacecraft_clock_count1: 1463887830.223\n",
      " - spacecraft_clock_count2: 1463887834.153\n",
      " - prime: N\n",
      "\n",
      "=> CASSINI_VIMS constraints\n",
      " - channel: IR\n",
      " - VIS_SAMPLING_MODE_ID: NORMAL\n",
      " - IR_SAMPLING_MODE_ID: NORMAL\n",
      " - VIS_EXPOSURE: 480.0\n",
      " - IR_EXPOSURE: 80.0\n",
      " - SPECTRAL_SUMMING: OFF\n",
      " - SPECTRAL_EDITING: OFF\n",
      " - INSTRUMENT_MODE_ID: IMAGE\n"
     ]
    }
   ],
   "source": [
    "## Get all the metadata for a knwon `Ring Observation ID`:\n",
    "meta = api.metadata('S_CUBE_CO_VIMS_1463887830_IR')\n",
    "print(meta)"
   ]
  },
  {
   "cell_type": "code",
   "execution_count": 5,
   "metadata": {
    "scrolled": false
   },
   "outputs": [
    {
     "data": {
      "text/plain": [
       "=> GENERAL constraints\n",
       " - is_image: False\n",
       " - planet_id: SAT\n",
       " - target_name: TITAN\n",
       " - mission_id: CO\n",
       " - inst_host_id: CO\n",
       " - instrument_id: COVIMS\n",
       " - time_sec1: 138510430.211\n",
       " - time_sec2: 138510433.934\n",
       " - time1: 2004-05-22 03:06:38.211000\n",
       " - time2: 2004-05-22 03:06:41.934000\n",
       " - target_class: MOON\n",
       " - quantity: REFLECT\n",
       " - type_id: CUBE\n",
       " - ring_obs_id: S_CUBE_CO_VIMS_1463887830_IR\n",
       " - right_asc1: 33.597013\n",
       " - right_asc2: 33.781802\n",
       " - declination1: 9.564464\n",
       " - declination2: 9.746636\n",
       " - observation_duration: 3.7229999899864197\n",
       " - volume_id_list: COVIMS_0004\n",
       " - primary_file_spec: COVIMS_0004/data/2004136T030633_2004143T032556/v1463887830_1.QUB"
      ]
     },
     "execution_count": 5,
     "metadata": {},
     "output_type": "execute_result"
    }
   ],
   "source": [
    "# Extract only the `General` constraints:\n",
    "meta['GENERAL']"
   ]
  },
  {
   "cell_type": "code",
   "execution_count": 6,
   "metadata": {
    "scrolled": false
   },
   "outputs": [
    {
     "data": {
      "text/plain": [
       "datetime.datetime(2004, 5, 22, 3, 6, 38, 211000)"
      ]
     },
     "execution_count": 6,
     "metadata": {},
     "output_type": "execute_result"
    }
   ],
   "source": [
    "# Extract the starting time of the observation:\n",
    "meta['GENERAL']['time1']"
   ]
  },
  {
   "cell_type": "markdown",
   "metadata": {},
   "source": [
    "## Image previews"
   ]
  },
  {
   "cell_type": "code",
   "execution_count": 7,
   "metadata": {
    "scrolled": false
   },
   "outputs": [
    {
     "data": {
      "text/plain": [
       "OPUS API Image object: S_IMG_CO_ISS_1459551972_N"
      ]
     },
     "execution_count": 7,
     "metadata": {},
     "output_type": "execute_result"
    }
   ],
   "source": [
    "## Get image previews for a single observation (`size`: thumb, small, med, full)\n",
    "preview = api.image('S_IMG_CO_ISS_1459551972_N', size='med')\n",
    "preview"
   ]
  },
  {
   "cell_type": "code",
   "execution_count": 8,
   "metadata": {
    "scrolled": false
   },
   "outputs": [
    {
     "data": {
      "text/plain": [
       "'https://pds-rings.seti.org/holdings/previews/COISS_2xxx/COISS_2001/data/1459551663_1459568594/N1459551972_1_med.jpg'"
      ]
     },
     "execution_count": 8,
     "metadata": {},
     "output_type": "execute_result"
    }
   ],
   "source": [
    "# Get the url on the OPUS website:\n",
    "preview.url"
   ]
  },
  {
   "cell_type": "code",
   "execution_count": 9,
   "metadata": {
    "scrolled": false
   },
   "outputs": [
    {
     "data": {
      "text/plain": [
       "'tests/api/image/med/N1459551972_1_med.jpg'"
      ]
     },
     "execution_count": 9,
     "metadata": {},
     "output_type": "execute_result"
    }
   ],
   "source": [
    "# Download the preview:\n",
    "preview.download(out='tests/api/image/med/N1459551972_1_med.jpg')"
   ]
  },
  {
   "cell_type": "markdown",
   "metadata": {},
   "source": [
    "![S_IMG_CO_ISS_1459551972_N](tests/api/image/med/N1459551972_1_med.jpg)"
   ]
  },
  {
   "cell_type": "code",
   "execution_count": 10,
   "metadata": {
    "scrolled": false
   },
   "outputs": [
    {
     "name": "stdout",
     "output_type": "stream",
     "text": [
      "OPUS API Image objects (with 10 med images):\n",
      " - S_IMG_CO_ISS_1480614021_N\n",
      " - S_IMG_CO_ISS_1488190255_N\n",
      " - S_IMG_CO_ISS_1488273311_N\n",
      " - S_IMG_CO_ISS_1488368442_N\n",
      " - S_IMG_CO_ISS_1488485562_N\n",
      " - S_IMG_CO_ISS_1488551713_N\n",
      " - S_IMG_CO_ISS_1488711044_N\n",
      " - S_IMG_CO_ISS_1488745124_N\n",
      " - S_IMG_CO_ISS_1488812400_N\n",
      " - S_IMG_CO_ISS_1488826725_N\n"
     ]
    }
   ],
   "source": [
    "## Get all the previews for a specic query:\n",
    "previews = api.images(planet='Saturn', target='pan', size='med', limit=10)\n",
    "print(previews)"
   ]
  },
  {
   "cell_type": "code",
   "execution_count": 11,
   "metadata": {
    "scrolled": false
   },
   "outputs": [
    {
     "data": {
      "text/plain": [
       "OPUS API Image object: S_IMG_CO_ISS_1480614021_N"
      ]
     },
     "execution_count": 11,
     "metadata": {},
     "output_type": "execute_result"
    }
   ],
   "source": [
    "## Show a single image from the previous query:\n",
    "previews['S_IMG_CO_ISS_1480614021_N']"
   ]
  },
  {
   "cell_type": "markdown",
   "metadata": {},
   "source": [
    "## Image files"
   ]
  },
  {
   "cell_type": "code",
   "execution_count": 12,
   "metadata": {
    "scrolled": false
   },
   "outputs": [
    {
     "data": {
      "text/plain": [
       "OPUS API Files for observation: S_IMG_CO_ISS_1459551972_N\n",
       "\n",
       "=> RAW_IMAGE\n",
       " - LBL: https://pds-rings.seti.org/holdings/volumes/COISS_2xxx/COISS_2001/data/1459551663_1459568594/N1459551972_1.LBL\n",
       " - IMG: https://pds-rings.seti.org/holdings/volumes/COISS_2xxx/COISS_2001/data/1459551663_1459568594/N1459551972_1.IMG\n",
       " - tlmtab: https://pds-rings.seti.org/holdings/volumes/COISS_2xxx/COISS_2001/LABEL/TLMTAB.FMT\n",
       " - prefix2: https://pds-rings.seti.org/holdings/volumes/COISS_2xxx/COISS_2001/LABEL/PREFIX2.FMT\n",
       "\n",
       "=> CALIBRATED\n",
       " - LBL: https://pds-rings.seti.org/holdings/calibrated/COISS_2xxx/COISS_2001/data/1459551663_1459568594/N1459551972_1_CALIB.LBL\n",
       " - IMG: https://pds-rings.seti.org/holdings/calibrated/COISS_2xxx/COISS_2001/data/1459551663_1459568594/N1459551972_1_CALIB.IMG\n",
       " - tlmtab: https://pds-rings.seti.org/holdings/calibrated/COISS_2xxx/COISS_2001/LABEL/TLMTAB.FMT\n",
       " - prefix2: https://pds-rings.seti.org/holdings/calibrated/COISS_2xxx/COISS_2001/LABEL/PREFIX2.FMT\n",
       "\n",
       "=> PREVIEWS\n",
       " - full: https://pds-rings.seti.org/holdings/previews/COISS_2xxx/COISS_2001/data/1459551663_1459568594/N1459551972_1_full.jpg\n",
       " - med: https://pds-rings.seti.org/holdings/previews/COISS_2xxx/COISS_2001/data/1459551663_1459568594/N1459551972_1_med.jpg\n",
       " - small: https://pds-rings.seti.org/holdings/previews/COISS_2xxx/COISS_2001/data/1459551663_1459568594/N1459551972_1_small.jpg\n",
       " - thumb: https://pds-rings.seti.org/holdings/previews/COISS_2xxx/COISS_2001/data/1459551663_1459568594/N1459551972_1_thumb.jpg"
      ]
     },
     "execution_count": 12,
     "metadata": {},
     "output_type": "execute_result"
    }
   ],
   "source": [
    "## Get the files (previews, raw, calibrated data if availables) for a single observation:\n",
    "file = api.file('S_IMG_CO_ISS_1459551972_N')\n",
    "file"
   ]
  },
  {
   "cell_type": "code",
   "execution_count": 13,
   "metadata": {
    "scrolled": false
   },
   "outputs": [
    {
     "data": {
      "text/plain": [
       " - LBL: https://pds-rings.seti.org/holdings/calibrated/COISS_2xxx/COISS_2001/data/1459551663_1459568594/N1459551972_1_CALIB.LBL\n",
       " - IMG: https://pds-rings.seti.org/holdings/calibrated/COISS_2xxx/COISS_2001/data/1459551663_1459568594/N1459551972_1_CALIB.IMG\n",
       " - tlmtab: https://pds-rings.seti.org/holdings/calibrated/COISS_2xxx/COISS_2001/LABEL/TLMTAB.FMT\n",
       " - prefix2: https://pds-rings.seti.org/holdings/calibrated/COISS_2xxx/COISS_2001/LABEL/PREFIX2.FMT"
      ]
     },
     "execution_count": 13,
     "metadata": {},
     "output_type": "execute_result"
    }
   ],
   "source": [
    "# List of the calibrated images:\n",
    "file['CALIBRATED']"
   ]
  },
  {
   "cell_type": "code",
   "execution_count": 14,
   "metadata": {
    "scrolled": true
   },
   "outputs": [
    {
     "data": {
      "text/plain": [
       "'tests/data/N1459551972_1.LBL'"
      ]
     },
     "execution_count": 14,
     "metadata": {},
     "output_type": "execute_result"
    }
   ],
   "source": [
    "# Download the raw label file (`LBL`):\n",
    "file['RAW_IMAGE']['LBL'].download(out='tests/data/')"
   ]
  },
  {
   "cell_type": "code",
   "execution_count": 15,
   "metadata": {
    "scrolled": false
   },
   "outputs": [
    {
     "name": "stdout",
     "output_type": "stream",
     "text": [
      "OPUS API File objects (with 10 files):\n",
      " - S_IMG_CO_ISS_1480614021_N\n",
      " - S_IMG_CO_ISS_1488273311_N\n",
      " - S_IMG_CO_ISS_1488826725_N\n",
      " - S_IMG_CO_ISS_1488711044_N\n",
      " - S_IMG_CO_ISS_1488745124_N\n",
      " - S_IMG_CO_ISS_1488485562_N\n",
      " - S_IMG_CO_ISS_1488190255_N\n",
      " - S_IMG_CO_ISS_1488812400_N\n",
      " - S_IMG_CO_ISS_1488551713_N\n",
      " - S_IMG_CO_ISS_1488368442_N\n"
     ]
    }
   ],
   "source": [
    "## Get all files for a search:\n",
    "files = api.files(planet='Saturn', target='pan', limit=10)\n",
    "print(files)"
   ]
  },
  {
   "cell_type": "code",
   "execution_count": 16,
   "metadata": {
    "scrolled": false
   },
   "outputs": [
    {
     "data": {
      "text/plain": [
       "OPUS API Files for observation: S_IMG_CO_ISS_1480614021_N\n",
       "\n",
       "=> RAW_IMAGE\n",
       " - LBL: https://pds-rings.seti.org/holdings/volumes/COISS_2xxx/COISS_2008/data/1479919543_1480697632/N1480614021_1.LBL\n",
       " - IMG: https://pds-rings.seti.org/holdings/volumes/COISS_2xxx/COISS_2008/data/1479919543_1480697632/N1480614021_1.IMG\n",
       " - tlmtab: https://pds-rings.seti.org/holdings/volumes/COISS_2xxx/COISS_2008/LABEL/TLMTAB.FMT\n",
       " - prefix2: https://pds-rings.seti.org/holdings/volumes/COISS_2xxx/COISS_2008/LABEL/PREFIX2.FMT\n",
       "\n",
       "=> CALIBRATED\n",
       " - LBL: https://pds-rings.seti.org/holdings/calibrated/COISS_2xxx/COISS_2008/data/1479919543_1480697632/N1480614021_1_CALIB.LBL\n",
       " - IMG: https://pds-rings.seti.org/holdings/calibrated/COISS_2xxx/COISS_2008/data/1479919543_1480697632/N1480614021_1_CALIB.IMG\n",
       " - tlmtab: https://pds-rings.seti.org/holdings/calibrated/COISS_2xxx/COISS_2008/LABEL/TLMTAB.FMT\n",
       " - prefix2: https://pds-rings.seti.org/holdings/calibrated/COISS_2xxx/COISS_2008/LABEL/PREFIX2.FMT\n",
       "\n",
       "=> PREVIEWS\n",
       " - full: https://pds-rings.seti.org/holdings/previews/COISS_2xxx/COISS_2008/data/1479919543_1480697632/N1480614021_1_full.jpg\n",
       " - med: https://pds-rings.seti.org/holdings/previews/COISS_2xxx/COISS_2008/data/1479919543_1480697632/N1480614021_1_med.jpg\n",
       " - small: https://pds-rings.seti.org/holdings/previews/COISS_2xxx/COISS_2008/data/1479919543_1480697632/N1480614021_1_small.jpg\n",
       " - thumb: https://pds-rings.seti.org/holdings/previews/COISS_2xxx/COISS_2008/data/1479919543_1480697632/N1480614021_1_thumb.jpg"
      ]
     },
     "execution_count": 16,
     "metadata": {},
     "output_type": "execute_result"
    }
   ],
   "source": [
    "## Show a single image from the previous query:\n",
    "files['S_IMG_CO_ISS_1480614021_N']"
   ]
  },
  {
   "cell_type": "markdown",
   "metadata": {},
   "source": [
    "## Getting Information about Data"
   ]
  },
  {
   "cell_type": "code",
   "execution_count": 17,
   "metadata": {
    "scrolled": true
   },
   "outputs": [
    {
     "name": "stdout",
     "output_type": "stream",
     "text": [
      "OPUS API Multiple choice for field: `target`\n",
      " - NARVI : 383\n",
      " - KIVIUQ : 2818\n",
      " - SIARNAQ : 1030\n",
      " - HYROKKIN : 1271\n",
      " - UNKNOWN : 12732\n",
      " - PAALIAQ : 3506\n",
      " - TARQEQ : 3737\n",
      " - SKY : 114330\n",
      " - DA : 57\n",
      " - HATI : 582\n",
      " - METHONE : 1133\n",
      " - PROMETHEUS : 4156\n",
      " - EPIMETHEUS : 2211\n",
      " - ATLAS : 1512\n",
      " - ERRIAPUS : 3045\n",
      " - NULL : 884\n",
      " - PAN : 1591\n",
      " - AEGAEON : 1363\n",
      " - SUTTUNGR : 403\n",
      " - SATURN : 385471\n",
      " - MUNDILFARI : 82\n",
      " - DIONE : 16633\n",
      " - TITAN : 174614\n",
      " - KARI : 155\n",
      " - FORNJOT : 929\n",
      " - ANTHE : 1554\n",
      " - YMIR : 1355\n",
      " - PHOEBE : 3101\n",
      " - SUN : 78497\n",
      " - EARTH : 8\n",
      " - HYPERION : 6247\n",
      " - BERGELMIR : 582\n",
      " - GREIP : 563\n",
      " - BESTLA : 2059\n",
      " - CALYPSO : 1179\n",
      " - PALLENE : 1224\n",
      " - TETHYS : 14529\n",
      " - IJIRAQ : 3214\n",
      " - BEBHIONN : 531\n",
      " - SURTUR : 491\n",
      " - OTHER : 22578\n",
      " - PANDORA : 1776\n",
      " - S12_2004 : 145\n",
      " - ALBIORIX : 2829\n",
      " - ENCELADUS : 39960\n",
      " - SKOLL : 795\n",
      " - TELESTO : 1230\n",
      " - DAPHNIS : 807\n",
      " - JANUS : 2938\n",
      " - POLYDEUCES : 912\n",
      " - THRYMR : 636\n",
      " - IPH : 3\n",
      " - SYSTEM : 112\n",
      " - PO : 54\n",
      " - LOGE : 838\n",
      " - IAPETUS : 16159\n",
      " - DUST : 176\n",
      " - RHEA : 20974\n",
      " - TARVOS : 1744\n",
      " - S RINGS : 254076\n",
      " - MIMAS : 8863\n",
      " - SKATHI : 2346\n",
      " - HELENE : 2272\n"
     ]
    }
   ],
   "source": [
    "## Returns all possible values for a given multiple choice field, given a search, and the result count for each value:\n",
    "targets = api.mults('target', planet='Saturn')\n",
    "print(targets)"
   ]
  },
  {
   "cell_type": "code",
   "execution_count": 18,
   "metadata": {},
   "outputs": [
    {
     "name": "stdout",
     "output_type": "stream",
     "text": [
      "Number of Image/Cube found on TITAN: 174614\n"
     ]
    }
   ],
   "source": [
    "# Get the count of targets on `TITAN`.\n",
    "print('Number of Image/Cube found on TITAN:', targets['TITAN'])"
   ]
  },
  {
   "cell_type": "code",
   "execution_count": 19,
   "metadata": {},
   "outputs": [
    {
     "data": {
      "text/plain": [
       "OPUS API Range endpoints for field: `ringradius1`\n",
       " - min : 60000.0\n",
       " - max : 12900000.0\n",
       " - null : 115573"
      ]
     },
     "execution_count": 19,
     "metadata": {},
     "output_type": "execute_result"
    }
   ],
   "source": [
    "## Get range endpoints for a field, given a search\n",
    "api.range('ringradius1', target='Saturn')"
   ]
  },
  {
   "cell_type": "code",
   "execution_count": 20,
   "metadata": {},
   "outputs": [
    {
     "data": {
      "text/plain": [
       "Body Center Resolution (surfacegeometryENCELADUScenterresolution):\n",
       " => The linear size of a pixel as projected at the distance of the planet or specified target body.\n",
       "\n",
       "This value is defined by the instantaneous geometry at the time of the observation; it is independent of the field of view.\n",
       " http://pds-rings.seti.org/dictionary/index.php?term=Center_Resolution&context=RINGSDB"
      ]
     },
     "execution_count": 20,
     "metadata": {},
     "output_type": "execute_result"
    }
   ],
   "source": [
    "## Get information about a particular field\n",
    "api.field('surfacegeometryENCELADUScenterresolution')"
   ]
  },
  {
   "cell_type": "code",
   "execution_count": 21,
   "metadata": {},
   "outputs": [
    {
     "name": "stdout",
     "output_type": "stream",
     "text": [
      "Number of field categories available: 304\n"
     ]
    }
   ],
   "source": [
    "## Get list of all fields available\n",
    "fields = api.fields()\n",
    "print('Number of field categories available:', len(fields))"
   ]
  },
  {
   "cell_type": "code",
   "execution_count": 22,
   "metadata": {},
   "outputs": [
    {
     "data": {
      "text/plain": [
       "OPUS API Global fields (234):\n",
       " - Lesser Size in Pixels (lesserpixelsize)\n",
       " - Projected Radial Resolution 2 (projectedradialresolution2)\n",
       " - Projected Radial Resolution (projectedradialresolution1)\n",
       " - Compression Type (instrumentcouviscompressiontype)\n",
       " - Ring Center Incidence (ringcenterincidence)\n",
       " - Valid Maximum Maximum Dn Saturation Level (instrumentcoissvalidmaximummaximumdnsaturationlevel)\n",
       " - Volume ID List (volumeidlist)\n",
       " - Opening Angle to Sun (solarringopeningangle)\n",
       " - Publication Date (publicationdate)\n",
       " - Earth Received Time (ertsec1)\n",
       " - Earth Received Time 2 (ertsec2)\n",
       " - Edge-On Radius 2 (edgeonradius2)\n",
       " - Edge-On Radius (edgeonradius1)\n",
       " - Edge-On J2000 Longitude (edgeonj2000longitude1)\n",
       " - Edge-On J2000 Longitude 2 (edgeonj2000longitude2)\n",
       " - Detector ID (missionhubbledetectorid)\n",
       " - Declination (declination1)\n",
       " - Declination 2 (declination2)\n",
       " - Instrument Name (instrumentid)\n",
       " - Nominal Target Class (targetclass)\n",
       " - Obstruction ID (obstructionid)\n",
       " - Intended Target Name (target)\n",
       " - Exposure Duration (exposureduration1)\n",
       " - Observed Ring Radius 2 (ringradius2)\n",
       " - Observed Ring Radius (ringradius1)\n",
       " - Ring Center North-Based Emission (ringcenternorthbasedemission)\n",
       " - Spectral Information (specflag)\n",
       " - Edit Mode ID (editmodeid)\n",
       " - Wavelength 2 (wavelength2)\n",
       " - Occultation Port State (occultationportstate)\n",
       " - Edge-On Radial Resolution (edgeonradialresolution1)\n",
       " - Exposure Type (missionhubbleexposuretype)\n",
       " - Shutter Mode (shuttermodeid)\n",
       " - Radiance Scaling Factor (radiancescalingfactor)\n",
       " - Spacecraft Clock Count (missiongalileospacecraftclockcount1)\n",
       " - Spacecraft Clock Count 2 (missiongalileospacecraftclockcount2)\n",
       " - Filter Name (instrumentgossifiltername)\n",
       " - Telemetry Format ID (telemetryformatid)\n",
       " - Binning Mode (binningmode)\n",
       " - Instrument Mode ID (missionhubbleinstrumentmodeid)\n",
       " - PI Last Name (hstpiname)\n",
       " - Pc1 Flag (missionhubblepc1flag)\n",
       " - Observed Emission Angle (emission1)\n",
       " - Spacecraft Clock Count 2 (missionnewhorizonsspacecraftclockcount2)\n",
       " - Spacecraft Clock Count (missionnewhorizonsspacecraftclockcount1)\n",
       " - Target Center Distance (instrumentmvictargetcenterdistance)\n",
       " - Filter Number (filternumber)\n",
       " - Compression Type (compressiontype)\n",
       " - Data Set ID (datasetid)\n",
       " - Blinking Mode (instrumentmodeblinkingflag)\n",
       " - Mean Reflectance (meanreflectance)\n",
       " - Filter Name (missionhubblefiltername)\n",
       " - Light Flood State Flag (lightfloodstateflag)\n",
       " - Target Name (surfacegeometrytargetname)\n",
       " - Compression Type (instcmprstype)\n",
       " - Wavelength Resolution (waveres1)\n",
       " - Wavelength Resolution 2 (waveres2)\n",
       " - Samples (samples)\n",
       " - Opening Angle to Observer (observerringopeningangle)\n",
       " - Filter (filter)\n",
       " - Ring Center Emission (ringcenteremission)\n",
       " - Instrument Compression Type (instrumentmvicinstrumentcompressiontype)\n",
       " - Target Center Distance (targetcenterdistance)\n",
       " - Activity Name (activityname)\n",
       " - Line Binning (linebin)\n",
       " - Sub-Observer J2000 Longitude (subobserverringlong)\n",
       " - Detector ID (instrumentcouvischannel)\n",
       " - Wavelength (wavelength1)\n",
       " - Spacecraft Clock Count (spacecraftclockcount1)\n",
       " - Spacecraft Clock Count 2 (spacecraftclockcount2)\n",
       " - Delayed Readout Flag (delayedreadoutflag)\n",
       " - Wavenumber (waveno1)\n",
       " - Ring Center North-Based Incidence (ringcenternorthbasedincidence)\n",
       " - Mean Radiance (meanradiance)\n",
       " - Instrument Compression Param GOB (instcmprsparamgob)\n",
       " - Instrument Compression Param QF (instcmprsparamqf)\n",
       " - Calibration Lamp State Flag (calibrationlampstateflag)\n",
       " - Wavenumber Resolution 2 (wavenores2)\n",
       " - Band 2 (band2)\n",
       " - Wavenumber Resolution (wavenores1)\n",
       " - HST Target Name (hsttargetname)\n",
       " - Edge-On Altitude (edgeonaltitude1)\n",
       " - Edge-On Altitude 2 (edgeonaltitude2)\n",
       " - Antiblooming State Flag (antibloomingstateflag)\n",
       " - Note (note)\n",
       " - Channel (channel)\n",
       " - Sub-Solar J2000 Longitude (subsolarringlong)\n",
       " - VIS Exposure (visexposure)\n",
       " - Measurement Quantity (quantity)\n",
       " - Cassini Target Name (cassinitargetname)\n",
       " - Test Pulse State (testpulsestate)\n",
       " - VIS Sampling Mode ID (vissamplingmodeid)\n",
       " - Is Prime (prime)\n",
       " - Band (band1)\n",
       " - IR Sampling Mode ID (irsamplingmodeid)\n",
       " - Missing Lines (missinglines)\n",
       " - Image ID (imageid)\n",
       " - Spectral Summing (spectralsumming)\n",
       " - Camera (instrumentvgisscamera)\n",
       " - All Mode (instrumentmodeallflag)\n",
       " - Reflectance Scaling Factor (reflectancescalingfactor)\n",
       " - Observation Type (observationtype)\n",
       " - Wf3 Flag (missionhubblewf3flag)\n",
       " - Filter Temperature (filtertemperature)\n",
       " - Pairs Mode (instrumentmodepairsflag)\n",
       " - Spectral Editing (spectralediting)\n",
       " - Exposure Duration (duration)\n",
       " - Compression Ratio (instcmprsratio)\n",
       " - Observed Emission Angle 2 (emission2)\n",
       " - STScI File Name (stscigroupid)\n",
       " - Observed Incidence Angle 2 (incidence2)\n",
       " - Ring Center Phase (ringcenterphase)\n",
       " - Spacecraft Name (spacecraftname)\n",
       " - Processing History Text (processinghistorytext)\n",
       " - Observation Time 2 (timesec2)\n",
       " - Observation Time (timesec1)\n",
       " - Mission (missionid)\n",
       " - Shutter State ID (shutterstateid)\n",
       " - Missing Packet Flag (missingpacketflag)\n",
       " - Wavenumber 2 (waveno2)\n",
       " - Spacecraft Clock Count 2 (spacecraftclockcountint2)\n",
       " - Spacecraft Clock Count (spacecraftclockcountint1)\n",
       " - Volume ID (volumeid)\n",
       " - Filter Number (instrumentgossifilternumber)\n",
       " - Instrument Compression Param TB (instcmprsparamtb)\n",
       " - Ring Azimuth WRT Observer 2 (ringazimuthwrtobserver2)\n",
       " - Polarization Type (polarizationtype)\n",
       " - Centers Mode (instrumentmodecentersflag)\n",
       " - Encoding Max Compression Ratio (instrumentgossiencodingmaxcompressionratio)\n",
       " - Observed Range to Ring Intercept (rangetoringintercept1)\n",
       " - Observed Range to Ring Intercept 2 (rangetoringintercept2)\n",
       " - Scan Mode ID (scanmodeid)\n",
       " - IR Exposure (irexposure)\n",
       " - Valid Maximum Minimum Full Well Saturation Level (instrumentcoissvalidmaximumminimumfullwellsaturationlevel)\n",
       " - Expected Maximum full well DN (expectedmaximumfullwelldn)\n",
       " - Ring Azimuth WRT Observer (ringazimuthwrtobserver1)\n",
       " - Instrument Compression Type (instrumentcompressiontype)\n",
       " - Longitude WRT Observer 2 (longitudewrtobserver2)\n",
       " - Longitude WRT Observer (longitudewrtobserver1)\n",
       " - Optics Temperature Front (opticstemperaturefront)\n",
       " - Instrument Compression Param MALGO (instcmprsparammalgo)\n",
       " - Filter Name (instrumentcoissfiltername)\n",
       " - North-Based Emission 2 (northbasedemission2)\n",
       " - North-Based Emission (northbasedemission1)\n",
       " - Intensity Levels (levels)\n",
       " - Rev No (missiongalileorevno)\n",
       " - Integration Duration (integrationduration)\n",
       " - Spacecraft Clock Count (missionvoyagerspacecraftclockcount1)\n",
       " - Spacecraft Clock Count 2 (missionvoyagerspacecraftclockcount2)\n",
       " - Orbit Number (orbitnumber)\n",
       " - Filter Name (filtername)\n",
       " - Exposure Duration 2 (exposureduration2)\n",
       " - Instrument Mode ID (instrumentmodeid)\n",
       " - Image Type (imagetypeid)\n",
       " - Wf4 Flag (missionhubblewf4flag)\n",
       " - HST Proposal ID (hstproposalid)\n",
       " - Wf2 Flag (missionhubblewf2flag)\n",
       " - Observer Ring Elevation (observerringelevation1)\n",
       " - Observer Ring Elevation 2 (observerringelevation2)\n",
       " - Observation Name (obsname)\n",
       " - Slit State (slitstate)\n",
       " - Solar Ring Elevation 2 (solarringelev2)\n",
       " - Solar Ring Elevation (solarringelev1)\n",
       " - Edge-On Point Range 2 (rangetoedgeonpoint2)\n",
       " - Edge-On Solar Hour Angle 2 (edgeonsolarhourangle2)\n",
       " - Edge-On Solar Hour Angle (edgeonsolarhourangle1)\n",
       " - Observed J2000 Longitude 2 (j2000longitude2)\n",
       " - Observed J2000 Longitude (j2000longitude1)\n",
       " - Observation Duration (observationduration)\n",
       " - Inst Cmprs Rate Expected Average (instrumentcoissinstcmprsrateexpectedaverage)\n",
       " - Planet (planet)\n",
       " - Image ID (instrumentgossiimageid)\n",
       " - Image Observation Type (imageobservationtype)\n",
       " - Primary Instrument (primeinstid)\n",
       " - Data Type (typeid)\n",
       " - Phase Angle (instrumentmvicphaseangle)\n",
       " - Observation Name (observationname)\n",
       " - Observed Incidence Angle (incidence1)\n",
       " - Observed Resolution (resolution1)\n",
       " - Even Mode (instrumentmodeevenflag)\n",
       " - Shutter Mode ID (instrumentvgissshuttermodeid)\n",
       " - Spectrum Samples (spectrumsamples)\n",
       " - Camera (camera)\n",
       " - Edge-On Point Range (rangetoedgeonpoint1)\n",
       " - Observed Resolution 2 (resolution2)\n",
       " - Earth Received Time (missionvoyagerertsec1)\n",
       " - Earth Received Time 2 (missionvoyagerertsec2)\n",
       " - Line 2 (line2)\n",
       " - Line (line1)\n",
       " - Odd Mode (instrumentmodeoddflag)\n",
       " - Detector ID (detectorid)\n",
       " - Telemetry Application ID (telemetryapplicationid)\n",
       " - Greater Size in Pixels (greaterpixelsize)\n",
       " - Dwell Time (dwelltime)\n",
       " - Observation Time 1 (UTC) (time1)\n",
       " - Observation Time 2 (UTC) (time2)\n",
       " - Nominal Target Ceneter Resolution (nominaltargetceneterres)\n",
       " - North-Based Incidence (northbasedincidence1)\n",
       " - North-Based Incidence 2 (northbasedincidence2)\n",
       " - Gain Mode ID (instrumentvgissgainmodeid)\n",
       " - Frame Duration (frameduration)\n",
       " - Optics Temperature Rear (opticstemperaturerear)\n",
       " - Ring Observation ID (ringobsid)\n",
       " - Saturn Orbit Number (revno)\n",
       " - Spectrum Size (specsize)\n",
       " - Targets Detected (targetsdetectedlist)\n",
       " - Observed Solar Hour Angle (solarhourangle1)\n",
       " - Observed Solar Hour Angle 2 (solarhourangle2)\n",
       " - Band Binning (bandbin)\n",
       " - Edge-On Radial Resolution 2 (edgeonradialresolution2)\n",
       " - Gain Mode (gainmodeid)\n",
       " - Inst Cmprs Rate Actual Average (instrumentcoissinstcmprsrateactualaverage)\n",
       " - Observed Phase Angle (phase1)\n",
       " - Observed Phase Angle 2 (phase2)\n",
       " - Aperture Type (missionhubbleaperturetype)\n",
       " - Phase Angle (instrumentlorriphaseangle)\n",
       " - Instrument Host Name (insthostid)\n",
       " - High Voltage Power Supply State (hivoltagepowersupplystate)\n",
       " - Encoding Compression Ratio (encodingcompressionratio)\n",
       " - Gain Mode ID (missionhubblegainmodeid)\n",
       " - ODC ID (odcid)\n",
       " - Observation ID (observationid)\n",
       " - Expected Maximum max DN (expectedmaximummaxdn)\n",
       " - WFPC2 Targeted Chip (missionhubbletargeteddetectorid)\n",
       " - Fine Guidance System Lock Type (fineguidancesystemlocktype)\n",
       " - Mission Phase (missionphase)\n",
       " - Gain Mode ID (instrumentgossigainmodeid)\n",
       " - Range to Ring Center (ringcenterdistance)\n",
       " - Is Image (isimage)\n",
       " - Right Ascension (rightasc1)\n",
       " - Primary File Spec (primaryfilespec)\n",
       " - Encoding Min Compression Ratio (instrumentgossiencodingmincompressionratio)\n",
       " - Data Conversion Type (dataconversiontype)\n",
       " - Right Ascension 2 (rightasc2)"
      ]
     },
     "execution_count": 22,
     "metadata": {},
     "output_type": "execute_result"
    }
   ],
   "source": [
    "# Global fields:\n",
    "fields['GLOBAL']"
   ]
  },
  {
   "cell_type": "code",
   "execution_count": 23,
   "metadata": {},
   "outputs": [
    {
     "data": {
      "text/plain": [
       "OPUS API Surface Geometry fields (31) for `Titan`:\n",
       " - Sub-Solar IAU West Longitude (subsolarIAUlongitude)\n",
       " - Finest Observed Resolution 2 (finestresolution2)\n",
       " - Sub-Solar Planetocentric Latitude (subsolarplanetocentriclatitude)\n",
       " - Sub-Observer Planetocentric Latitude (subobserverplanetocentriclatitude)\n",
       " - Sub-Observer IAU West Longitude (subobserverIAUlongitude)\n",
       " - D Observer Longitude (dObserverlongitude)\n",
       " - Solar Hour Angle (solarhourangle)\n",
       " - Finest Observed Resolution (finestresolution1)\n",
       " - Observed Distance to Surface (rangetobody1)\n",
       " - Observed Distance to Surface 2 (rangetobody2)\n",
       " - Body Center Resolution (centerresolution)\n",
       " - Sub-Solar Planetographic Latitude (subsolarplanetographiclatitude)\n",
       " - D Solar Hour Angle (dsolarhourangle)\n",
       " - Observed Planetographic Latitude (planetographiclatitude1)\n",
       " - D Iau West Longitude (dIAUwestlongitude)\n",
       " - Observed Planetographic Latitude 2 (planetographiclatitude2)\n",
       " - Phase Angle at Body Center (centerphaseangle)\n",
       " - Observed Local Time 2 (solarhourangle2)\n",
       " - Coarsest Observed Resolution (coarsestresolution1)\n",
       " - Coarsest Observed Resolution 2 (coarsestresolution2)\n",
       " - Observed Planetocentric Latitude (planetocentriclatitude1)\n",
       " - Observed Phase Angle 2 (phase2)\n",
       " - Body Center Distance (centerdistance)\n",
       " - Sub-Observer Planetographic Latitude (subobserverplanetographiclatitude)\n",
       " - Observed Planetocentric Latitude 2 (planetocentriclatitude2)\n",
       " - Observed Incidence Angle (incidence1)\n",
       " - Observed Incidence Angle 2 (incidence2)\n",
       " - Observed Phase Angle (phase1)\n",
       " - Observed Emission Angle (emission1)\n",
       " - Observed Emission Angle 2 (emission2)\n",
       " - Observed Local Time (solarhourangle1)"
      ]
     },
     "execution_count": 23,
     "metadata": {},
     "output_type": "execute_result"
    }
   ],
   "source": [
    "# TITAN Surface Geometry fields:\n",
    "fields['TITAN']"
   ]
  },
  {
   "cell_type": "code",
   "execution_count": 24,
   "metadata": {},
   "outputs": [
    {
     "data": {
      "text/plain": [
       "['finestresolution2',\n",
       " 'finestresolution1',\n",
       " 'centerresolution',\n",
       " 'coarsestresolution1',\n",
       " 'coarsestresolution2']"
      ]
     },
     "execution_count": 24,
     "metadata": {},
     "output_type": "execute_result"
    }
   ],
   "source": [
    "# Find a field:\n",
    "fields['TITAN'].find('res')"
   ]
  },
  {
   "cell_type": "code",
   "execution_count": 25,
   "metadata": {},
   "outputs": [
    {
     "data": {
      "text/plain": [
       "Body Center Resolution (surfacegeometryTITANcenterresolution):\n",
       " => The linear size of a pixel as projected at the distance of the planet or specified target body.\n",
       "\n",
       "This value is defined by the instantaneous geometry at the time of the observation; it is independent of the field of view.\n",
       " http://pds-rings.seti.org/dictionary/index.php?term=Center_Resolution&context=RINGSDB"
      ]
     },
     "execution_count": 25,
     "metadata": {},
     "output_type": "execute_result"
    }
   ],
   "source": [
    "# Get field definition:\n",
    "fields['TITAN']['centerresolution']"
   ]
  },
  {
   "cell_type": "code",
   "execution_count": 26,
   "metadata": {},
   "outputs": [
    {
     "data": {
      "text/plain": [
       "OPUS API list of all categories (3):\n",
       " - General Constraints (obs_general)\n",
       " - Ring Geometry Constraints (obs_ring_geometry)\n",
       " - Wavelength Constraints (obs_wavelength)"
      ]
     },
     "execution_count": 26,
     "metadata": {},
     "output_type": "execute_result"
    }
   ],
   "source": [
    "## List category names:\n",
    "api.categories()"
   ]
  },
  {
   "cell_type": "code",
   "execution_count": 27,
   "metadata": {},
   "outputs": [
    {
     "name": "stdout",
     "output_type": "stream",
     "text": [
      "__NotImplementedError:__ `Get all fields in a category` API method is not implemented correctly\n"
     ]
    }
   ],
   "source": [
    "# Get all fields in a category (Not implemented correctly...):\n",
    "try:\n",
    "    api.category('obs_general')\n",
    "except TypeError:\n",
    "    print('__NotImplementedError:__ `Get all fields in a category` API method is not implemented correctly')"
   ]
  }
 ],
 "metadata": {
  "kernelspec": {
   "display_name": "Python 3",
   "language": "python",
   "name": "python3"
  },
  "language_info": {
   "codemirror_mode": {
    "name": "ipython",
    "version": 3
   },
   "file_extension": ".py",
   "mimetype": "text/x-python",
   "name": "python",
   "nbconvert_exporter": "python",
   "pygments_lexer": "ipython3",
   "version": "3.6.5"
  }
 },
 "nbformat": 4,
 "nbformat_minor": 2
}
