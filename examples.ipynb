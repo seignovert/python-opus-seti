{
 "cells": [
  {
   "cell_type": "markdown",
   "metadata": {},
   "source": [
    "# Python package for OPUS-Seti API (NASA-PDS Rings Node)\n",
    "\n",
    "This guide describes the `opus-seti` python package to use the API that drives [OPUS, an outer planets data search tool](http://pds-rings-tools.seti.org/opus) produced by the [NASA PDS Rings Node](http://pds-rings.seti.org/). Any search that can be performed in OPUS can also be requested as an API call. Below are several examples.\n",
    "\n",
    "_(The source code of this python package can be found on [github](https://github.com/seignovert/python-opus-seti). Contributions and feedbacks are welcome.)_\n",
    "\n",
    "__IMPORTANT:__ I have no current affiliation with NASA or SETI. This package is provided _as is_, use at your own risk."
   ]
  },
  {
   "cell_type": "markdown",
   "metadata": {},
   "source": [
    "## Getting data"
   ]
  },
  {
   "cell_type": "code",
   "execution_count": 1,
   "metadata": {},
   "outputs": [
    {
     "name": "stdout",
     "output_type": "stream",
     "text": [
      "Number of Image/Cube found: 75880\n"
     ]
    }
   ],
   "source": [
    "from opus import api\n",
    "\n",
    "## Get result count for the number of `Images` and `Cubes` taken by the `CASSINI-VIMS` instrument targeting `TITAN`.\n",
    "count = api.count(\n",
    "    instrumentid = 'Cassini+VIMS',\n",
    "    surfacegeometrytargetname = 'TITAN',\n",
    "    typeid = 'Image,Cube',\n",
    ")\n",
    "print('Number of Image/Cube found:', count)"
   ]
  },
  {
   "cell_type": "code",
   "execution_count": 2,
   "metadata": {},
   "outputs": [
    {
     "name": "stdout",
     "output_type": "stream",
     "text": [
      "OPUS API Data objects (with 10 elements):\n",
      " - S_CUBE_CO_VIMS_1463887830_IR\n",
      " - S_CUBE_CO_VIMS_1463887846_IR\n",
      " - S_CUBE_CO_VIMS_1463887879_IR\n",
      " - S_CUBE_CO_VIMS_1463887895_IR\n",
      " - S_CUBE_CO_VIMS_1463887928_IR\n",
      " - S_CUBE_CO_VIMS_1463887944_IR\n",
      " - S_CUBE_CO_VIMS_1463887977_IR\n",
      " - S_CUBE_CO_VIMS_1463887993_IR\n",
      " - S_CUBE_CO_VIMS_1463888026_IR\n",
      " - S_CUBE_CO_VIMS_1463888042_IR\n"
     ]
    }
   ],
   "source": [
    "## Get the first 10 cubes (sorted by time) and retreiving: \n",
    "# - the intended target name\n",
    "# - Saturn orbit number\n",
    "# - the observation start time (int UTC)\n",
    "# - the primary file specification\n",
    "# - the channel (VIS/IR)\n",
    "    \n",
    "cubes = api.data(\n",
    "    instrumentid = 'Cassini+VIMS',\n",
    "    surfacegeometrytargetname = 'TITAN',\n",
    "    typeid = 'Image,Cube',\n",
    "    order = 'time1',\n",
    "    cols = 'ringobsid,target,revno,time1,primaryfilespec,channel',\n",
    "    limit = 10,\n",
    "    page = 1\n",
    ")\n",
    "print(cubes)"
   ]
  },
  {
   "cell_type": "markdown",
   "metadata": {},
   "source": [
    "__Note:__ If `limit` parameter is set to `None` the query will retreive all the cubes found."
   ]
  },
  {
   "cell_type": "code",
   "execution_count": 3,
   "metadata": {},
   "outputs": [
    {
     "data": {
      "text/plain": [
       "Ring Observation ID: S_CUBE_CO_VIMS_1463887830_IR\n",
       " - Intended Target Name: TITAN\n",
       " - Saturn Orbit Number: 000\n",
       " - Observation Start Time (UTC): 2004-05-22T03:06:38.211\n",
       " - Primary File Spec: COVIMS_0004/data/2004136T030633_2004143T032556/v1463887830_1.QUB\n",
       " - Channel: IR"
      ]
     },
     "execution_count": 3,
     "metadata": {},
     "output_type": "execute_result"
    }
   ],
   "source": [
    "## Show a single cube from the previous query:\n",
    "cubes['S_CUBE_CO_VIMS_1463887830_IR']"
   ]
  },
  {
   "cell_type": "markdown",
   "metadata": {},
   "source": [
    "## Metadata"
   ]
  },
  {
   "cell_type": "code",
   "execution_count": 4,
   "metadata": {},
   "outputs": [
    {
     "name": "stdout",
     "output_type": "stream",
     "text": [
      "OPUS API Metadata Ring observation: S_CUBE_CO_VIMS_1463887830_IR\n",
      "\n",
      "=> GENERAL constraints\n",
      " - is_image: False\n",
      " - planet_id: SAT\n",
      " - target_name: TITAN\n",
      " - mission_id: CO\n",
      " - inst_host_id: CO\n",
      " - instrument_id: COVIMS\n",
      " - time_sec1: 138510430.211\n",
      " - time_sec2: 138510433.934\n",
      " - time1: 2004-05-22 03:06:38.211000\n",
      " - time2: 2004-05-22 03:06:41.934000\n",
      " - target_class: MOON\n",
      " - quantity: REFLECT\n",
      " - type_id: CUBE\n",
      " - ring_obs_id: S_CUBE_CO_VIMS_1463887830_IR\n",
      " - right_asc1: 33.597013\n",
      " - right_asc2: 33.781802\n",
      " - declination1: 9.564464\n",
      " - declination2: 9.746636\n",
      " - observation_duration: 3.7229999899864197\n",
      " - volume_id_list: COVIMS_0004\n",
      " - primary_file_spec: COVIMS_0004/data/2004136T030633_2004143T032556/v1463887830_1.QUB\n",
      "\n",
      "=> SATURN_SURFACE_GEOMETRY constraints\n",
      " - sub_solar_planetocentric_latitude: -24.757\n",
      " - sub_observer_planetocentric_latitude: -16.348\n",
      " - sub_solar_planetographic_latitude: -29.543\n",
      " - sub_observer_planetographic_latitude: -19.825\n",
      " - sub_solar_IAU_longitude: 42.915\n",
      " - sub_observer_IAU_longitude: 115.068\n",
      " - center_resolution: 10610.0\n",
      " - center_phase_angle: 67.361\n",
      " - center_distance: 21435312.517\n",
      "\n",
      "=> TITAN_SURFACE_GEOMETRY constraints\n",
      " - sub_solar_planetocentric_latitude: -24.699\n",
      " - sub_observer_planetocentric_latitude: -16.231\n",
      " - sub_solar_planetographic_latitude: -24.699\n",
      " - sub_observer_planetographic_latitude: -16.231\n",
      " - sub_solar_IAU_longitude: 209.735\n",
      " - sub_observer_IAU_longitude: 285.075\n",
      " - center_resolution: 10753.0\n",
      " - center_phase_angle: 70.272\n",
      " - center_distance: 21722296.753\n",
      "\n",
      "=> RING_GEOMETRY constraints\n",
      " - ring_radius1: 1155776.141\n",
      " - ring_radius2: 1269499.724\n",
      " - resolution1: 10730.0\n",
      " - resolution2: 10849.0\n",
      " - projected_radial_resolution1: 14007.0\n",
      " - projected_radial_resolution2: 19298.0\n",
      " - range_to_ring_intercept1: 21675806.237\n",
      " - range_to_ring_intercept2: 21917939.068\n",
      " - ring_center_distance: 21435312.517\n",
      " - J2000_longitude1: 317.627\n",
      " - J2000_longitude2: 328.377\n",
      " - solar_hour_angle1: 208.797\n",
      " - solar_hour_angle2: 219.547\n",
      " - longitude_WRT_observer1: 100.95\n",
      " - longitude_WRT_observer2: 111.7\n",
      " - ring_azimuth_WRT_observer1: 104.075\n",
      " - ring_azimuth_WRT_observer2: 114.909\n",
      " - sub_solar_ring_long: 288.83\n",
      " - sub_observer_ring_long: 216.677\n",
      " - solar_ring_elev1: -24.776\n",
      " - solar_ring_elev2: -24.774\n",
      " - observer_ring_elevation1: -16.162\n",
      " - observer_ring_elevation2: -15.978\n",
      " - phase1: 70.199\n",
      " - phase2: 70.344\n",
      " - incidence1: 65.224\n",
      " - incidence2: 65.226\n",
      " - emission1: 73.838\n",
      " - emission2: 74.022\n",
      " - north_based_incidence1: 114.774\n",
      " - north_based_incidence2: 114.776\n",
      " - north_based_emission1: 105.978\n",
      " - north_based_emission2: 106.162\n",
      " - ring_center_phase: 67.361\n",
      " - ring_center_incidence: 65.243\n",
      " - ring_center_emission: 73.652\n",
      " - ring_center_north_based_incidence: 114.757\n",
      " - ring_center_north_based_emission: 106.348\n",
      " - solar_ring_opening_angle: -24.757\n",
      " - observer_ring_opening_angle: -16.348\n",
      " - edge_on_radius1: 1102060.665\n",
      " - edge_on_radius2: 1170445.679\n",
      " - edge_on_altitude1: -153111.275\n",
      " - edge_on_altitude2: -81461.096\n",
      " - edge_on_radial_resolution1: 10574.0\n",
      " - edge_on_radial_resolution2: 10585.0\n",
      " - range_to_edge_on_point1: 21361720.688\n",
      " - range_to_edge_on_point2: 21383145.545\n",
      " - edge_on_J2000_longitude1: 303.414\n",
      " - edge_on_J2000_longitude2: 303.605\n",
      " - edge_on_solar_hour_angle1: 194.584\n",
      " - edge_on_solar_hour_angle2: 194.774\n",
      "\n",
      "=> WAVELENGTH constraints\n",
      " - wavelength1: 0.8842\n",
      " - wavelength2: 5.1225\n",
      " - spec_flag: Y\n",
      " - wave_res1: 0.01662\n",
      " - wave_res2: 0.01662\n",
      " - wave_no1: 19.521717911176\n",
      " - wave_no2: 113.09658448315\n",
      " - wave_no_res1: 0.063338399547828\n",
      " - wave_no_res2: 2.1258371794955\n",
      " - spec_size: 96\n",
      " - polarization_type: NONE\n",
      "\n",
      "=> IMAGE constraints\n",
      " - duration: 0.08\n",
      " - image_type_id: RAST\n",
      " - greater_pixel_size: 6.0\n",
      " - lesser_pixel_size: 6.0\n",
      " - levels: 4096\n",
      "\n",
      "=> CASSINI_MISSION constraints\n",
      " - cassini_target_name: Titan\n",
      " - rev_no: 000\n",
      " - obs_name: VIMS_000TI_LIGHTC065\n",
      " - activity_name: LIGHTC\n",
      " - spacecraft_clock_count1: 1463887830.223\n",
      " - spacecraft_clock_count2: 1463887834.153\n",
      " - prime: N\n",
      "\n",
      "=> CASSINI_VIMS constraints\n",
      " - channel: IR\n",
      " - VIS_SAMPLING_MODE_ID: NORMAL\n",
      " - IR_SAMPLING_MODE_ID: NORMAL\n",
      " - VIS_EXPOSURE: 480.0\n",
      " - IR_EXPOSURE: 80.0\n",
      " - SPECTRAL_SUMMING: OFF\n",
      " - SPECTRAL_EDITING: OFF\n",
      " - INSTRUMENT_MODE_ID: IMAGE\n"
     ]
    }
   ],
   "source": [
    "## Get all the metadata for a knwon `Ring Observation ID`:\n",
    "meta = api.metadata('S_CUBE_CO_VIMS_1463887830_IR')\n",
    "print(meta)"
   ]
  },
  {
   "cell_type": "code",
   "execution_count": 5,
   "metadata": {},
   "outputs": [
    {
     "data": {
      "text/plain": [
       "=> GENERAL constraints\n",
       " - is_image: False\n",
       " - planet_id: SAT\n",
       " - target_name: TITAN\n",
       " - mission_id: CO\n",
       " - inst_host_id: CO\n",
       " - instrument_id: COVIMS\n",
       " - time_sec1: 138510430.211\n",
       " - time_sec2: 138510433.934\n",
       " - time1: 2004-05-22 03:06:38.211000\n",
       " - time2: 2004-05-22 03:06:41.934000\n",
       " - target_class: MOON\n",
       " - quantity: REFLECT\n",
       " - type_id: CUBE\n",
       " - ring_obs_id: S_CUBE_CO_VIMS_1463887830_IR\n",
       " - right_asc1: 33.597013\n",
       " - right_asc2: 33.781802\n",
       " - declination1: 9.564464\n",
       " - declination2: 9.746636\n",
       " - observation_duration: 3.7229999899864197\n",
       " - volume_id_list: COVIMS_0004\n",
       " - primary_file_spec: COVIMS_0004/data/2004136T030633_2004143T032556/v1463887830_1.QUB"
      ]
     },
     "execution_count": 5,
     "metadata": {},
     "output_type": "execute_result"
    }
   ],
   "source": [
    "# Extract only the `General` constraints:\n",
    "meta['GENERAL']"
   ]
  },
  {
   "cell_type": "code",
   "execution_count": 6,
   "metadata": {},
   "outputs": [
    {
     "data": {
      "text/plain": [
       "datetime.datetime(2004, 5, 22, 3, 6, 38, 211000)"
      ]
     },
     "execution_count": 6,
     "metadata": {},
     "output_type": "execute_result"
    }
   ],
   "source": [
    "# Extract the starting time of the observation:\n",
    "meta['GENERAL']['time1']"
   ]
  },
  {
   "cell_type": "markdown",
   "metadata": {},
   "source": [
    "## Image previews"
   ]
  },
  {
   "cell_type": "code",
   "execution_count": 7,
   "metadata": {},
   "outputs": [
    {
     "data": {
      "text/plain": [
       "OPUS API Image object: S_IMG_CO_ISS_1459551972_N"
      ]
     },
     "execution_count": 7,
     "metadata": {},
     "output_type": "execute_result"
    }
   ],
   "source": [
    "## Get image previews for a single observation (`size`: thumb, small, med, full)\n",
    "preview = api.image('S_IMG_CO_ISS_1459551972_N', size='med')\n",
    "preview"
   ]
  },
  {
   "cell_type": "code",
   "execution_count": 8,
   "metadata": {},
   "outputs": [
    {
     "data": {
      "text/plain": [
       "'https://pds-rings.seti.org/holdings/previews/COISS_2xxx/COISS_2001/data/1459551663_1459568594/N1459551972_1_med.jpg'"
      ]
     },
     "execution_count": 8,
     "metadata": {},
     "output_type": "execute_result"
    }
   ],
   "source": [
    "# Get the url on the OPUS website:\n",
    "preview.url"
   ]
  },
  {
   "cell_type": "code",
   "execution_count": 9,
   "metadata": {},
   "outputs": [
    {
     "data": {
      "text/plain": [
       "'tests/api/image/med/N1459551972_1_med.jpg'"
      ]
     },
     "execution_count": 9,
     "metadata": {},
     "output_type": "execute_result"
    }
   ],
   "source": [
    "# Download the preview:\n",
    "preview.download(out='tests/api/image/med/N1459551972_1_med.jpg')"
   ]
  },
  {
   "cell_type": "markdown",
   "metadata": {},
   "source": [
    "![S_IMG_CO_ISS_1459551972_N](tests/api/image/med/N1459551972_1_med.jpg)"
   ]
  },
  {
   "cell_type": "code",
   "execution_count": 10,
   "metadata": {},
   "outputs": [
    {
     "name": "stdout",
     "output_type": "stream",
     "text": [
      "OPUS API Image objects (with 10 med images):\n",
      " - S_IMG_CO_ISS_1480614021_N\n",
      " - S_IMG_CO_ISS_1488190255_N\n",
      " - S_IMG_CO_ISS_1488273311_N\n",
      " - S_IMG_CO_ISS_1488368442_N\n",
      " - S_IMG_CO_ISS_1488485562_N\n",
      " - S_IMG_CO_ISS_1488551713_N\n",
      " - S_IMG_CO_ISS_1488711044_N\n",
      " - S_IMG_CO_ISS_1488745124_N\n",
      " - S_IMG_CO_ISS_1488812400_N\n",
      " - S_IMG_CO_ISS_1488826725_N\n"
     ]
    }
   ],
   "source": [
    "## Get all the previews for a specic query:\n",
    "previews = api.images(planet='Saturn', target='pan', size='med', limit=10)\n",
    "print(previews)"
   ]
  },
  {
   "cell_type": "code",
   "execution_count": 11,
   "metadata": {},
   "outputs": [
    {
     "data": {
      "text/plain": [
       "OPUS API Image object: S_IMG_CO_ISS_1480614021_N"
      ]
     },
     "execution_count": 11,
     "metadata": {},
     "output_type": "execute_result"
    }
   ],
   "source": [
    "## Show a single image from the previous query:\n",
    "previews['S_IMG_CO_ISS_1480614021_N']"
   ]
  },
  {
   "cell_type": "markdown",
   "metadata": {},
   "source": [
    "## Image files"
   ]
  },
  {
   "cell_type": "code",
   "execution_count": 12,
   "metadata": {},
   "outputs": [
    {
     "data": {
      "text/plain": [
       "OPUS API Files for observation: S_IMG_CO_ISS_1459551972_N\n",
       "\n",
       "=> RAW_IMAGE\n",
       " - LBL: https://pds-rings.seti.org/holdings/volumes/COISS_2xxx/COISS_2001/data/1459551663_1459568594/N1459551972_1.LBL\n",
       " - IMG: https://pds-rings.seti.org/holdings/volumes/COISS_2xxx/COISS_2001/data/1459551663_1459568594/N1459551972_1.IMG\n",
       " - tlmtab: https://pds-rings.seti.org/holdings/volumes/COISS_2xxx/COISS_2001/LABEL/TLMTAB.FMT\n",
       " - prefix2: https://pds-rings.seti.org/holdings/volumes/COISS_2xxx/COISS_2001/LABEL/PREFIX2.FMT\n",
       "\n",
       "=> CALIBRATED\n",
       " - LBL: https://pds-rings.seti.org/holdings/calibrated/COISS_2xxx/COISS_2001/data/1459551663_1459568594/N1459551972_1_CALIB.LBL\n",
       " - IMG: https://pds-rings.seti.org/holdings/calibrated/COISS_2xxx/COISS_2001/data/1459551663_1459568594/N1459551972_1_CALIB.IMG\n",
       " - tlmtab: https://pds-rings.seti.org/holdings/calibrated/COISS_2xxx/COISS_2001/LABEL/TLMTAB.FMT\n",
       " - prefix2: https://pds-rings.seti.org/holdings/calibrated/COISS_2xxx/COISS_2001/LABEL/PREFIX2.FMT\n",
       "\n",
       "=> PREVIEWS\n",
       " - full: https://pds-rings.seti.org/holdings/previews/COISS_2xxx/COISS_2001/data/1459551663_1459568594/N1459551972_1_full.jpg\n",
       " - med: https://pds-rings.seti.org/holdings/previews/COISS_2xxx/COISS_2001/data/1459551663_1459568594/N1459551972_1_med.jpg\n",
       " - small: https://pds-rings.seti.org/holdings/previews/COISS_2xxx/COISS_2001/data/1459551663_1459568594/N1459551972_1_small.jpg\n",
       " - thumb: https://pds-rings.seti.org/holdings/previews/COISS_2xxx/COISS_2001/data/1459551663_1459568594/N1459551972_1_thumb.jpg"
      ]
     },
     "execution_count": 12,
     "metadata": {},
     "output_type": "execute_result"
    }
   ],
   "source": [
    "## Get the files (previews, raw, calibrated data if availables) for a single observation:\n",
    "file = api.file('S_IMG_CO_ISS_1459551972_N')\n",
    "file"
   ]
  },
  {
   "cell_type": "code",
   "execution_count": 13,
   "metadata": {},
   "outputs": [
    {
     "data": {
      "text/plain": [
       " - LBL: https://pds-rings.seti.org/holdings/calibrated/COISS_2xxx/COISS_2001/data/1459551663_1459568594/N1459551972_1_CALIB.LBL\n",
       " - IMG: https://pds-rings.seti.org/holdings/calibrated/COISS_2xxx/COISS_2001/data/1459551663_1459568594/N1459551972_1_CALIB.IMG\n",
       " - tlmtab: https://pds-rings.seti.org/holdings/calibrated/COISS_2xxx/COISS_2001/LABEL/TLMTAB.FMT\n",
       " - prefix2: https://pds-rings.seti.org/holdings/calibrated/COISS_2xxx/COISS_2001/LABEL/PREFIX2.FMT"
      ]
     },
     "execution_count": 13,
     "metadata": {},
     "output_type": "execute_result"
    }
   ],
   "source": [
    "# List of the calibrated images:\n",
    "file['CALIBRATED']"
   ]
  },
  {
   "cell_type": "code",
   "execution_count": 14,
   "metadata": {},
   "outputs": [
    {
     "data": {
      "text/plain": [
       "'tests/data/N1459551972_1.LBL'"
      ]
     },
     "execution_count": 14,
     "metadata": {},
     "output_type": "execute_result"
    }
   ],
   "source": [
    "# Download the raw label file (`LBL`):\n",
    "file['RAW_IMAGE']['LBL'].download(out='tests/data/')"
   ]
  },
  {
   "cell_type": "code",
   "execution_count": 15,
   "metadata": {},
   "outputs": [
    {
     "name": "stdout",
     "output_type": "stream",
     "text": [
      "OPUS API File objects (with 10 files):\n",
      " - S_IMG_CO_ISS_1480614021_N\n",
      " - S_IMG_CO_ISS_1488273311_N\n",
      " - S_IMG_CO_ISS_1488826725_N\n",
      " - S_IMG_CO_ISS_1488711044_N\n",
      " - S_IMG_CO_ISS_1488745124_N\n",
      " - S_IMG_CO_ISS_1488485562_N\n",
      " - S_IMG_CO_ISS_1488190255_N\n",
      " - S_IMG_CO_ISS_1488812400_N\n",
      " - S_IMG_CO_ISS_1488551713_N\n",
      " - S_IMG_CO_ISS_1488368442_N\n"
     ]
    }
   ],
   "source": [
    "## Get all files for a search:\n",
    "files = api.files(planet='Saturn', target='pan', limit=10)\n",
    "print(files)"
   ]
  },
  {
   "cell_type": "code",
   "execution_count": 16,
   "metadata": {},
   "outputs": [
    {
     "data": {
      "text/plain": [
       "OPUS API Files for observation: S_IMG_CO_ISS_1480614021_N\n",
       "\n",
       "=> RAW_IMAGE\n",
       " - LBL: https://pds-rings.seti.org/holdings/volumes/COISS_2xxx/COISS_2008/data/1479919543_1480697632/N1480614021_1.LBL\n",
       " - IMG: https://pds-rings.seti.org/holdings/volumes/COISS_2xxx/COISS_2008/data/1479919543_1480697632/N1480614021_1.IMG\n",
       " - tlmtab: https://pds-rings.seti.org/holdings/volumes/COISS_2xxx/COISS_2008/LABEL/TLMTAB.FMT\n",
       " - prefix2: https://pds-rings.seti.org/holdings/volumes/COISS_2xxx/COISS_2008/LABEL/PREFIX2.FMT\n",
       "\n",
       "=> CALIBRATED\n",
       " - LBL: https://pds-rings.seti.org/holdings/calibrated/COISS_2xxx/COISS_2008/data/1479919543_1480697632/N1480614021_1_CALIB.LBL\n",
       " - IMG: https://pds-rings.seti.org/holdings/calibrated/COISS_2xxx/COISS_2008/data/1479919543_1480697632/N1480614021_1_CALIB.IMG\n",
       " - tlmtab: https://pds-rings.seti.org/holdings/calibrated/COISS_2xxx/COISS_2008/LABEL/TLMTAB.FMT\n",
       " - prefix2: https://pds-rings.seti.org/holdings/calibrated/COISS_2xxx/COISS_2008/LABEL/PREFIX2.FMT\n",
       "\n",
       "=> PREVIEWS\n",
       " - full: https://pds-rings.seti.org/holdings/previews/COISS_2xxx/COISS_2008/data/1479919543_1480697632/N1480614021_1_full.jpg\n",
       " - med: https://pds-rings.seti.org/holdings/previews/COISS_2xxx/COISS_2008/data/1479919543_1480697632/N1480614021_1_med.jpg\n",
       " - small: https://pds-rings.seti.org/holdings/previews/COISS_2xxx/COISS_2008/data/1479919543_1480697632/N1480614021_1_small.jpg\n",
       " - thumb: https://pds-rings.seti.org/holdings/previews/COISS_2xxx/COISS_2008/data/1479919543_1480697632/N1480614021_1_thumb.jpg"
      ]
     },
     "execution_count": 16,
     "metadata": {},
     "output_type": "execute_result"
    }
   ],
   "source": [
    "## Show a single image from the previous query:\n",
    "files['S_IMG_CO_ISS_1480614021_N']"
   ]
  }
 ],
 "metadata": {
  "kernelspec": {
   "display_name": "Python 3",
   "language": "python",
   "name": "python3"
  },
  "language_info": {
   "codemirror_mode": {
    "name": "ipython",
    "version": 3
   },
   "file_extension": ".py",
   "mimetype": "text/x-python",
   "name": "python",
   "nbconvert_exporter": "python",
   "pygments_lexer": "ipython3",
   "version": "3.6.5"
  }
 },
 "nbformat": 4,
 "nbformat_minor": 2
}
